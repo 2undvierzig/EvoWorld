{
 "cells": [
  {
   "cell_type": "code",
   "execution_count": 1,
   "id": "72fd797f-7359-48b0-a07a-b254e79f782b",
   "metadata": {
    "tags": []
   },
   "outputs": [],
   "source": [
    "import numpy as np\n",
    "import random"
   ]
  },
  {
   "cell_type": "code",
   "execution_count": 7,
   "id": "96c95b50-1697-4d41-83cf-5c796462e835",
   "metadata": {
    "tags": []
   },
   "outputs": [],
   "source": [
    "def load_terrain_from_binary(filename):\n",
    "    \"\"\"\n",
    "    Loads the terrain from a binary file.\n",
    "\n",
    "    Parameters:\n",
    "    - filename: Name of the file to load the terrain from.\n",
    "\n",
    "    Returns:\n",
    "    A 2D array containing the loaded terrain.\n",
    "    \"\"\"\n",
    "    return np.load(filename, allow_pickle=True)"
   ]
  },
  {
   "cell_type": "code",
   "execution_count": 9,
   "id": "fa22c5db-8361-401e-9af8-0389eb8367dc",
   "metadata": {
    "tags": []
   },
   "outputs": [],
   "source": [
    "terrain_matrix = load_terrain_from_binary(\"sample_world_terrain.npy\") #0->water, 1->land, 2->mountain"
   ]
  },
  {
   "cell_type": "code",
   "execution_count": 10,
   "id": "6d437a30-e26f-46eb-a8fc-72ad397f5cad",
   "metadata": {
    "tags": []
   },
   "outputs": [
    {
     "name": "stdout",
     "output_type": "stream",
     "text": [
      "[(246, 574), (252, 784), (671, 853)]\n"
     ]
    }
   ],
   "source": [
    "import numpy as np\n",
    "\n",
    "def is_fully_ones_within_radius(matrix, point, r):\n",
    "    \"\"\"\n",
    "    Checks if all points within a radius r of a given point in a 2D matrix are 1.\n",
    "    \n",
    "    Parameters:\n",
    "    - matrix (numpy.array): The 2D numpy array\n",
    "    - point (tuple): The central point\n",
    "    - r (float): The radius to check\n",
    "    \n",
    "    Returns:\n",
    "    - bool: True if all points within the radius are 1, False otherwise\n",
    "    \"\"\"\n",
    "    row, col = point\n",
    "    rows, cols = matrix.shape\n",
    "    for i in range(max(0, row - r), min(rows, row + r + 1)):\n",
    "        for j in range(max(0, col - r), min(cols, col + r + 1)):\n",
    "            # Check if within circle radius\n",
    "            if np.linalg.norm(np.array([i, j]) - np.array([row, col])) <= r and matrix[i][j] != 1:\n",
    "                return False\n",
    "    return True\n",
    "\n",
    "def select_points(matrix, n, r):\n",
    "    \"\"\"\n",
    "    Selects up to n random points with value 1 in a given 2D numpy matrix that are \n",
    "    within a specified radius r from each other and ensures that the area\n",
    "    around the selected point within radius r is full of ones.\n",
    "    \n",
    "    Parameters:\n",
    "    - matrix (numpy.array): The 2D numpy array\n",
    "    - n (int): Number of points to select\n",
    "    - r (float): The radius within which no two points should be and to check for ones\n",
    "    \n",
    "    Returns:\n",
    "    - list: A list of tuples representing the selected points' coordinates\n",
    "    \"\"\"\n",
    "\n",
    "    # Get the indices of all points with value 1 and shuffle them for randomness\n",
    "    ones_indices = list(zip(*np.where(matrix == 1)))\n",
    "    random.shuffle(ones_indices)\n",
    "    \n",
    "    # Filter the points\n",
    "    selected_points = []\n",
    "    for idx in ones_indices:\n",
    "        if all(np.linalg.norm(np.array(idx) - np.array(existing_point)) > r for existing_point in selected_points):\n",
    "            if is_fully_ones_within_radius(matrix, idx, r):\n",
    "                selected_points.append(idx)\n",
    "                if len(selected_points) == n:\n",
    "                    break\n",
    "\n",
    "    return selected_points\n",
    "\n",
    "# Example matrix\n",
    "matrix = np.array([\n",
    "    [0, 1, 1, 1, 0],\n",
    "    [1, 1, 1, 1, 1],\n",
    "    [0, 1, 1, 1, 1],\n",
    "    [1, 1, 1, 1, 0],\n",
    "    [0, 1, 1, 0, 0]\n",
    "])\n",
    "\n",
    "# Test\n",
    "print(select_points(terrain_matrix, 3, 1))  # Adjust n and r as needed"
   ]
  },
  {
   "cell_type": "code",
   "execution_count": 9,
   "id": "54d184b2-4bdf-4f42-ba14-f2f1f8a38f04",
   "metadata": {
    "tags": []
   },
   "outputs": [
    {
     "name": "stdout",
     "output_type": "stream",
     "text": [
      "Punkt bei Reihe 0, Spalte 1 hat den Wert: 1\n",
      "Punkt bei Reihe 3, Spalte 0 hat den Wert: 1\n"
     ]
    }
   ],
   "source": []
  },
  {
   "cell_type": "code",
   "execution_count": null,
   "id": "2e379a74-1c05-4535-9ad7-3c994706dd24",
   "metadata": {},
   "outputs": [],
   "source": []
  }
 ],
 "metadata": {
  "kernelspec": {
   "display_name": "Python 3 (ipykernel)",
   "language": "python",
   "name": "python3"
  },
  "language_info": {
   "codemirror_mode": {
    "name": "ipython",
    "version": 3
   },
   "file_extension": ".py",
   "mimetype": "text/x-python",
   "name": "python",
   "nbconvert_exporter": "python",
   "pygments_lexer": "ipython3",
   "version": "3.11.4"
  }
 },
 "nbformat": 4,
 "nbformat_minor": 5
}
