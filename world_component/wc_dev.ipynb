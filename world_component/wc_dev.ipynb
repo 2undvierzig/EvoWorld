{
 "cells": [
  {
   "cell_type": "code",
   "execution_count": null,
   "id": "b18735a2-b8b3-474d-98db-85ed38660686",
   "metadata": {},
   "outputs": [],
   "source": [
    "import numpy as np\n",
    "import pika\n",
    "import json\n",
    "import time\n",
    "\n",
    "class WorldComponent:\n",
    "    def __init__(self):\n",
    "        self.connection = pika.BlockingConnection(pika.ConnectionParameters('localhost'))\n",
    "        self.channel = self.connection.channel()\n",
    "        \n",
    "        queue_args = {\n",
    "            \"x-max-length\": 1  # Set maximum number of messages in the queue to 1\n",
    "        }\n",
    "        \n",
    "        self.channel.queue_declare(queue='world_update_queue', arguments=queue_args)  # Make queue persistent\n",
    "        self.channel.queue_declare(queue='terrain_init', arguments=queue_args, durable=True)  # Make queue persistent\n",
    "\n",
    "        self.tick = 0\n",
    "        self.terrain_image_path = \"sample_world_terrain.png\"\n",
    "        self.init_terrain_image()\n",
    "\n",
    "    def init_terrain_image(self):\n",
    "        with open(self.terrain_image_path, 'rb') as image_file:\n",
    "            image_binary = image_file.read()\n",
    "            self.channel.basic_publish(exchange='',\n",
    "                                       routing_key='terrain_init',\n",
    "                                       body=image_binary,\n",
    "                                       properties=pika.BasicProperties(\n",
    "                                           delivery_mode=2,  # Mach die Nachricht dauerhaft\n",
    "                                       ))\n",
    "\n",
    "    def update(self):\n",
    "        self.tick += 1\n",
    "        new_world_state = {\n",
    "            \"tick\": self.tick,\n",
    "            \"entities\": [\"entity_1\", \"entity_2\"]\n",
    "        }\n",
    "        self.channel.basic_publish(exchange='',\n",
    "                                   routing_key='world_update_queue',\n",
    "                                   body=json.dumps(new_world_state),\n",
    "                                   properties=pika.BasicProperties(delivery_mode=2))  # Make message persistent\n",
    "\n",
    "    def run(self):\n",
    "        while True:\n",
    "            self.update()\n",
    "            self.init_terrain_image()\n",
    "            time.sleep(1)\n",
    "\n",
    "# Instanz der WorldComponent-Klasse\n",
    "world_component = WorldComponent()\n",
    "\n",
    "# Start der dauerhaften Updateschleife\n",
    "world_component.run()"
   ]
  },
  {
   "cell_type": "code",
   "execution_count": null,
   "id": "1e9d1299-d3c2-48c2-a58e-dcb95e63d5c8",
   "metadata": {},
   "outputs": [],
   "source": []
  }
 ],
 "metadata": {
  "kernelspec": {
   "display_name": "Python 3 (ipykernel)",
   "language": "python",
   "name": "python3"
  },
  "language_info": {
   "codemirror_mode": {
    "name": "ipython",
    "version": 3
   },
   "file_extension": ".py",
   "mimetype": "text/x-python",
   "name": "python",
   "nbconvert_exporter": "python",
   "pygments_lexer": "ipython3",
   "version": "3.9.16"
  }
 },
 "nbformat": 4,
 "nbformat_minor": 5
}
