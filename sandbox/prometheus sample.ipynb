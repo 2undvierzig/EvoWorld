{
 "cells": [
  {
   "cell_type": "code",
   "execution_count": 1,
   "id": "0be005aa-e99b-4557-a4af-004c957443d0",
   "metadata": {
    "tags": []
   },
   "outputs": [
    {
     "name": "stdout",
     "output_type": "stream",
     "text": [
      "Requirement already satisfied: prometheus_client in c:\\users\\jusch\\anaconda3\\lib\\site-packages (0.14.1)\n"
     ]
    },
    {
     "name": "stderr",
     "output_type": "stream",
     "text": [
      "WARNING: Ignoring invalid distribution -illow (c:\\users\\jusch\\anaconda3\\lib\\site-packages)\n",
      "WARNING: Ignoring invalid distribution -illow (c:\\users\\jusch\\anaconda3\\lib\\site-packages)\n"
     ]
    }
   ],
   "source": [
    "!pip install prometheus_client"
   ]
  },
  {
   "cell_type": "code",
   "execution_count": 2,
   "id": "8829aa0f-fd88-4de1-ac62-cc859ee057d8",
   "metadata": {
    "tags": []
   },
   "outputs": [],
   "source": [
    "from fastapi import FastAPI\n",
    "from prometheus_client import Counter, generate_latest, CONTENT_TYPE_LATEST\n",
    "\n",
    "app = FastAPI()\n",
    "\n",
    "c = Counter('my_failures', 'Description of counter')\n",
    "\n",
    "@app.get(\"/\")\n",
    "def read_root():\n",
    "    c.inc()\n",
    "    return {\"message\": \"Hello, World!\"}\n",
    "\n",
    "@app.get(\"/metrics/\")\n",
    "def metrics():\n",
    "    return generate_latest(), 200, {'Content-Type': CONTENT_TYPE_LATEST}"
   ]
  },
  {
   "cell_type": "code",
   "execution_count": null,
   "id": "6a27453e-9e3e-410f-8e52-b25013b84f7d",
   "metadata": {},
   "outputs": [],
   "source": []
  }
 ],
 "metadata": {
  "kernelspec": {
   "display_name": "Python 3 (ipykernel)",
   "language": "python",
   "name": "python3"
  },
  "language_info": {
   "codemirror_mode": {
    "name": "ipython",
    "version": 3
   },
   "file_extension": ".py",
   "mimetype": "text/x-python",
   "name": "python",
   "nbconvert_exporter": "python",
   "pygments_lexer": "ipython3",
   "version": "3.9.16"
  }
 },
 "nbformat": 4,
 "nbformat_minor": 5
}
