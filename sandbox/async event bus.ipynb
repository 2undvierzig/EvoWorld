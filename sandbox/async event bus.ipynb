{
 "cells": [
  {
   "cell_type": "code",
   "execution_count": null,
   "id": "061ecbe3-63fd-4b95-89e8-9d56334b77c9",
   "metadata": {
    "tags": []
   },
   "outputs": [],
   "source": [
    "#!pip install pika"
   ]
  },
  {
   "cell_type": "code",
   "execution_count": null,
   "id": "31a48344-f930-46a4-8697-23d651b6b892",
   "metadata": {
    "tags": []
   },
   "outputs": [],
   "source": [
    "import pika\n",
    "import json\n",
    "\n",
    "class WorldComponent:\n",
    "    def __init__(self):\n",
    "        self.connection = pika.BlockingConnection(pika.ConnectionParameters('localhost'))\n",
    "        self.channel = self.connection.channel()\n",
    "        self.channel.queue_declare(queue='world_update_queue')\n",
    "        self.tick = 0\n",
    "\n",
    "    def update(self):\n",
    "        self.tick += 1\n",
    "        new_world_state = {\n",
    "            \"tick\": self.tick,\n",
    "            \"entities\": [\"entity_1\", \"entity_2\"]\n",
    "        }\n",
    "        self.channel.basic_publish(exchange='',\n",
    "                                   routing_key='world_update_queue',\n",
    "                                   body=json.dumps(new_world_state))\n",
    "\n",
    "    def run(self):\n",
    "        while True:\n",
    "            self.update()\n",
    "\n",
    "# Instanz der WorldComponent-Klasse\n",
    "world_component = WorldComponent()\n",
    "\n",
    "# Start der dauerhaften Updateschleife\n",
    "world_component.run()\n"
   ]
  },
  {
   "cell_type": "code",
   "execution_count": null,
   "id": "ab90cd88-b3fd-4e28-a9ce-2889c727c6fa",
   "metadata": {
    "tags": []
   },
   "outputs": [
    {
     "name": "stdout",
     "output_type": "stream",
     "text": [
      "Welt-Update-Event: {'tick': 1, 'entities': ['entity_1', 'entity_2']}\n",
      "Welt-Update-Event: {'tick': 2, 'entities': ['entity_1', 'entity_2']}\n",
      "Welt-Update-Event: {'tick': 3, 'entities': ['entity_1', 'entity_2']}\n",
      "Welt-Update-Event: {'tick': 4, 'entities': ['entity_1', 'entity_2']}\n",
      "Welt-Update-Event: {'tick': 5, 'entities': ['entity_1', 'entity_2']}\n"
     ]
    }
   ],
   "source": []
  },
  {
   "cell_type": "code",
   "execution_count": null,
   "id": "43a99811-d7c4-4bab-9142-e3b5fe11eafd",
   "metadata": {},
   "outputs": [],
   "source": []
  }
 ],
 "metadata": {
  "kernelspec": {
   "display_name": "Python 3 (ipykernel)",
   "language": "python",
   "name": "python3"
  },
  "language_info": {
   "codemirror_mode": {
    "name": "ipython",
    "version": 3
   },
   "file_extension": ".py",
   "mimetype": "text/x-python",
   "name": "python",
   "nbconvert_exporter": "python",
   "pygments_lexer": "ipython3",
   "version": "3.9.16"
  }
 },
 "nbformat": 4,
 "nbformat_minor": 5
}
