{
 "cells": [
  {
   "cell_type": "code",
   "execution_count": 1,
   "id": "31a48344-f930-46a4-8697-23d651b6b892",
   "metadata": {
    "tags": []
   },
   "outputs": [
    {
     "name": "stdout",
     "output_type": "stream",
     "text": [
      "Welt-Update-Event: {'tick': 1}\n",
      "Entität-Erzeugt-Event: {'id': 'entity_1'}\n",
      "Kollisions-Event: {'entities': ['entity_1', 'entity_2'], 'point': [5, 5]}\n"
     ]
    }
   ],
   "source": [
    "class EventBus:\n",
    "    def __init__(self):\n",
    "        self.subscribers = {}\n",
    "\n",
    "    def subscribe(self, event_type, callback):\n",
    "        if event_type not in self.subscribers:\n",
    "            self.subscribers[event_type] = []\n",
    "        self.subscribers[event_type].append(callback)\n",
    "\n",
    "    def unsubscribe(self, event_type, callback):\n",
    "        if event_type in self.subscribers:\n",
    "            self.subscribers[event_type].remove(callback)\n",
    "\n",
    "    def publish(self, event_type, data=None):\n",
    "        if event_type in self.subscribers:\n",
    "            for callback in self.subscribers[event_type]:\n",
    "                callback(data)\n",
    "\n",
    "# Event-Handler-Beispiele\n",
    "def on_world_update(data):\n",
    "    print(f\"Welt-Update-Event: {data}\")\n",
    "\n",
    "def on_entity_created(data):\n",
    "    print(f\"Entität-Erzeugt-Event: {data}\")\n",
    "\n",
    "def on_entity_removed(data):\n",
    "    print(f\"Entität-Entfernt-Event: {data}\")\n",
    "\n",
    "def on_collision(data):\n",
    "    print(f\"Kollisions-Event: {data}\")\n",
    "\n",
    "def on_resource_change(data):\n",
    "    print(f\"Ressourcen-Änderung-Event: {data}\")\n",
    "\n",
    "def on_reproduction(data):\n",
    "    print(f\"Fortpflanzungs-Event: {data}\")\n",
    "\n",
    "def on_api_request(data):\n",
    "    print(f\"API-Anfrage-Event: {data}\")\n",
    "\n",
    "def on_frontend_update(data):\n",
    "    print(f\"Frontend-Update-Event: {data}\")\n",
    "\n",
    "def on_error(data):\n",
    "    print(f\"Fehler-Event: {data}\")\n",
    "\n",
    "# Event-Bus-Instanz\n",
    "event_bus = EventBus()\n",
    "\n",
    "# Event-Abonnements\n",
    "event_bus.subscribe(\"Welt-Update\", on_world_update)\n",
    "event_bus.subscribe(\"Entität-Erzeugt\", on_entity_created)\n",
    "event_bus.subscribe(\"Entität-Entfernt\", on_entity_removed)\n",
    "event_bus.subscribe(\"Kollision\", on_collision)\n",
    "event_bus.subscribe(\"Ressourcen-Änderung\", on_resource_change)\n",
    "event_bus.subscribe(\"Fortpflanzung\", on_reproduction)\n",
    "event_bus.subscribe(\"API-Anfrage\", on_api_request)\n",
    "event_bus.subscribe(\"Frontend-Update\", on_frontend_update)\n",
    "event_bus.subscribe(\"Fehler\", on_error)\n",
    "\n",
    "# Beispiel für die Veröffentlichung von Events\n",
    "event_bus.publish(\"Welt-Update\", {\"tick\": 1})\n",
    "event_bus.publish(\"Entität-Erzeugt\", {\"id\": \"entity_1\"})\n",
    "event_bus.publish(\"Kollision\", {\"entities\": [\"entity_1\", \"entity_2\"], \"point\": [5, 5]})\n"
   ]
  },
  {
   "cell_type": "code",
   "execution_count": null,
   "id": "ab90cd88-b3fd-4e28-a9ce-2889c727c6fa",
   "metadata": {
    "tags": []
   },
   "outputs": [
    {
     "name": "stdout",
     "output_type": "stream",
     "text": [
      "Welt-Update-Event: {'tick': 1, 'entities': ['entity_1', 'entity_2']}\n",
      "Welt-Update-Event: {'tick': 2, 'entities': ['entity_1', 'entity_2']}\n",
      "Welt-Update-Event: {'tick': 3, 'entities': ['entity_1', 'entity_2']}\n",
      "Welt-Update-Event: {'tick': 4, 'entities': ['entity_1', 'entity_2']}\n",
      "Welt-Update-Event: {'tick': 5, 'entities': ['entity_1', 'entity_2']}\n"
     ]
    }
   ],
   "source": [
    "import time\n",
    "\n",
    "class WorldComponent:\n",
    "    def __init__(self, event_bus):\n",
    "        self.event_bus = event_bus\n",
    "        self.tick = 0  # Ein einfacher Zähler für die Update-Zyklen\n",
    "\n",
    "    def update(self):\n",
    "        # Logik für das Update der Welt\n",
    "        self.tick += 1\n",
    "        new_world_state = {\n",
    "            \"tick\": self.tick,\n",
    "            \"entities\": [\"entity_1\", \"entity_2\"],  # Beispiel-Daten\n",
    "        }\n",
    "\n",
    "        # Veröffentlichung des Welt-Update-Events\n",
    "        self.event_bus.publish(\"Welt-Update\", new_world_state)\n",
    "\n",
    "    def run(self):\n",
    "        while True:\n",
    "            self.update()\n",
    "            time.sleep(1)  # Verzögert das nächste Update um 1 Sekunde\n",
    "\n",
    "# Event-Bus und Event-Handler bleiben unverändert\n",
    "\n",
    "# Event-Bus-Instanz\n",
    "event_bus = EventBus()\n",
    "\n",
    "# Event-Abonnements\n",
    "event_bus.subscribe(\"Welt-Update\", on_world_update)\n",
    "\n",
    "# Instanz der WorldComponent-Klasse\n",
    "world_component = WorldComponent(event_bus)\n",
    "\n",
    "# Start der dauerhaften Updateschleife\n",
    "world_component.run()"
   ]
  },
  {
   "cell_type": "code",
   "execution_count": null,
   "id": "43a99811-d7c4-4bab-9142-e3b5fe11eafd",
   "metadata": {},
   "outputs": [],
   "source": []
  }
 ],
 "metadata": {
  "kernelspec": {
   "display_name": "Python 3 (ipykernel)",
   "language": "python",
   "name": "python3"
  },
  "language_info": {
   "codemirror_mode": {
    "name": "ipython",
    "version": 3
   },
   "file_extension": ".py",
   "mimetype": "text/x-python",
   "name": "python",
   "nbconvert_exporter": "python",
   "pygments_lexer": "ipython3",
   "version": "3.9.16"
  }
 },
 "nbformat": 4,
 "nbformat_minor": 5
}
