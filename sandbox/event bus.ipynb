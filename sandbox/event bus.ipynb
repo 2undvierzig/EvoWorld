{
 "cells": [
  {
   "cell_type": "code",
   "execution_count": 2,
   "id": "31a48344-f930-46a4-8697-23d651b6b892",
   "metadata": {
    "tags": []
   },
   "outputs": [
    {
     "name": "stdout",
     "output_type": "stream",
     "text": [
      "Handler 1 received data: Data for my_event\n",
      "Handler 2 received data: Data for my_event\n",
      "Handler 3 received data: Data for another_event\n",
      "Handler 2 received data: New data for my_event\n"
     ]
    }
   ],
   "source": [
    "class EventBus:\n",
    "    def __init__(self):\n",
    "        self.subscribers = {}\n",
    "\n",
    "    def subscribe(self, event_type, callback):\n",
    "        if event_type not in self.subscribers:\n",
    "            self.subscribers[event_type] = []\n",
    "        self.subscribers[event_type].append(callback)\n",
    "\n",
    "    def unsubscribe(self, event_type, callback):\n",
    "        if event_type in self.subscribers:\n",
    "            self.subscribers[event_type].remove(callback)\n",
    "\n",
    "    def publish(self, event_type, data=None):\n",
    "        if event_type in self.subscribers:\n",
    "            for callback in self.subscribers[event_type]:\n",
    "                callback(data)\n",
    "\n",
    "# EventBus Klasse bleibt unverändert\n",
    "\n",
    "# Verschiedene Event-Handler\n",
    "def handle_event1(data):\n",
    "    print(f\"Handler 1 received data: {data}\")\n",
    "\n",
    "def handle_event2(data):\n",
    "    print(f\"Handler 2 received data: {data}\")\n",
    "\n",
    "def handle_event3(data):\n",
    "    print(f\"Handler 3 received data: {data}\")\n",
    "\n",
    "event_bus = EventBus()\n",
    "\n",
    "# Verschiedene Komponenten abonnieren das gleiche Event\n",
    "event_bus.subscribe(\"my_event\", handle_event1)\n",
    "event_bus.subscribe(\"my_event\", handle_event2)\n",
    "\n",
    "# Eine Komponente abonniert ein anderes Event\n",
    "event_bus.subscribe(\"another_event\", handle_event3)\n",
    "\n",
    "# Veröffentlichen eines Events, das von mehreren Handlern empfangen wird\n",
    "event_bus.publish(\"my_event\", \"Data for my_event\")\n",
    "\n",
    "# Veröffentlichen eines anderen Events\n",
    "event_bus.publish(\"another_event\", \"Data for another_event\")\n",
    "\n",
    "# Ein Handler wird abgemeldet\n",
    "event_bus.unsubscribe(\"my_event\", handle_event1)\n",
    "\n",
    "# Veröffentlichen des Events erneut\n",
    "event_bus.publish(\"my_event\", \"New data for my_event\")"
   ]
  },
  {
   "cell_type": "code",
   "execution_count": 3,
   "id": "ab90cd88-b3fd-4e28-a9ce-2889c727c6fa",
   "metadata": {
    "tags": []
   },
   "outputs": [
    {
     "data": {
      "text/plain": [
       "{'my_event': [<function __main__.handle_event2(data)>],\n",
       " 'another_event': [<function __main__.handle_event3(data)>]}"
      ]
     },
     "execution_count": 3,
     "metadata": {},
     "output_type": "execute_result"
    }
   ],
   "source": [
    "event_bus.subscribers"
   ]
  },
  {
   "cell_type": "code",
   "execution_count": null,
   "id": "43a99811-d7c4-4bab-9142-e3b5fe11eafd",
   "metadata": {},
   "outputs": [],
   "source": []
  }
 ],
 "metadata": {
  "kernelspec": {
   "display_name": "Python 3 (ipykernel)",
   "language": "python",
   "name": "python3"
  },
  "language_info": {
   "codemirror_mode": {
    "name": "ipython",
    "version": 3
   },
   "file_extension": ".py",
   "mimetype": "text/x-python",
   "name": "python",
   "nbconvert_exporter": "python",
   "pygments_lexer": "ipython3",
   "version": "3.9.16"
  }
 },
 "nbformat": 4,
 "nbformat_minor": 5
}
