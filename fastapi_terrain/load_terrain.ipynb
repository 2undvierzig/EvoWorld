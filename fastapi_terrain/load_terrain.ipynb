{
 "cells": [
  {
   "cell_type": "code",
   "execution_count": 8,
   "id": "d422e860-ab49-43fa-9a76-a664120e84f3",
   "metadata": {
    "tags": []
   },
   "outputs": [],
   "source": [
    "from fastapi import FastAPI, WebSocket\n",
    "from fastapi.staticfiles import StaticFiles\n",
    "import pika\n",
    "import json\n",
    "import base64"
   ]
  },
  {
   "cell_type": "code",
   "execution_count": 1,
   "id": "2c5de605-c11d-4a2b-b2ce-b1a714503472",
   "metadata": {
    "tags": []
   },
   "outputs": [
    {
     "ename": "IndentationError",
     "evalue": "expected an indented block (35296515.py, line 16)",
     "output_type": "error",
     "traceback": [
      "\u001b[1;36m  Cell \u001b[1;32mIn[1], line 16\u001b[1;36m\u001b[0m\n\u001b[1;33m    if method_frame:\u001b[0m\n\u001b[1;37m                    ^\u001b[0m\n\u001b[1;31mIndentationError\u001b[0m\u001b[1;31m:\u001b[0m expected an indented block\n"
     ]
    }
   ],
   "source": [
    "app = FastAPI()\n",
    "app.mount(\"/static\", StaticFiles(directory=\"static\"), name=\"static\")\n",
    "\n",
    "\n",
    "\n",
    "@app.websocket(\"/ws\")\n",
    "async def websocket_endpoint(websocket: WebSocket):\n",
    "    await websocket.accept()\n",
    "    print(\"WebSocket connection established.\")\n",
    "    \n",
    "    terrain = get_terrain_from_rabbitmq()\n",
    "    if terrain:\n",
    "        await websocket.send_json(terrain)\n",
    "        #print(f\"Sent terrain data to client: {terrain}\")"
   ]
  },
  {
   "cell_type": "code",
   "execution_count": 9,
   "id": "2a267057-30b9-4d39-b607-fca57ca726d8",
   "metadata": {
    "tags": []
   },
   "outputs": [],
   "source": [
    "def get_terrain_from_rabbitmq():\n",
    "    # Setup the connection to RabbitMQ\n",
    "    connection = pika.BlockingConnection(pika.ConnectionParameters('localhost'))\n",
    "    channel = connection.channel()\n",
    "\n",
    "    # Get the message from the terrain_init queue\n",
    "    method_frame, header_frame, body = channel.basic_get('terrain_init')\n",
    "    if method_frame:\n",
    "        # Convert the binary message to base64 encoded string\n",
    "        image_base64 = base64.b64encode(body).decode('utf-8')\n",
    "        return {\"image\": image_base64}\n",
    "    else:\n",
    "        print(\"No message returned\")\n",
    "        return None\n",
    "    \n",
    "terrain = get_terrain_from_rabbitmq()"
   ]
  },
  {
   "cell_type": "code",
   "execution_count": null,
   "id": "20b7c333-9f7e-4e6c-ba96-63ba414c7600",
   "metadata": {
    "tags": []
   },
   "outputs": [],
   "source": [
    "terrain"
   ]
  },
  {
   "cell_type": "code",
   "execution_count": null,
   "id": "8b69c729-5516-41f6-b45b-f7f5be379f87",
   "metadata": {},
   "outputs": [],
   "source": []
  }
 ],
 "metadata": {
  "kernelspec": {
   "display_name": "Python 3 (ipykernel)",
   "language": "python",
   "name": "python3"
  },
  "language_info": {
   "codemirror_mode": {
    "name": "ipython",
    "version": 3
   },
   "file_extension": ".py",
   "mimetype": "text/x-python",
   "name": "python",
   "nbconvert_exporter": "python",
   "pygments_lexer": "ipython3",
   "version": "3.9.16"
  }
 },
 "nbformat": 4,
 "nbformat_minor": 5
}
